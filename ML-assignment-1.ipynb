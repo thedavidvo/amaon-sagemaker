{
 "cells": [
  {
   "cell_type": "code",
   "execution_count": 85,
   "metadata": {},
   "outputs": [],
   "source": [
    "# IMPORTS\n",
    "\n",
    "import pandas as pd\n",
    "import matplotlib.pyplot as plt\n",
    "import numpy as np\n",
    "import sklearn as sk"
   ]
  },
  {
   "cell_type": "code",
   "execution_count": 86,
   "metadata": {},
   "outputs": [],
   "source": [
    "# DATA IMPORTS \n",
    "\n",
    "dataset = pd.read_csv('s3://rmit-ml-2020s1-lab-data/Assignment1_data/train.csv')\n",
    "test = pd.read_csv('s3://rmit-ml-2020s1-lab-data/Assignment1_data/test.csv')\n",
    "sample_solution = pd.read_csv('s3://rmit-ml-2020s1-lab-data/Assignment1_data/sample_solution.csv')"
   ]
  },
  {
   "cell_type": "code",
   "execution_count": 87,
   "metadata": {},
   "outputs": [],
   "source": [
    "# NORMALIZATION OF DATASET \n",
    "\n",
    "X = dataset['Country']\n",
    "\n",
    "normalized_dataset = dataset\n",
    "normalized_dataset = (normalized_dataset - normalized_dataset.mean()) / (normalized_dataset.max() - normalized_dataset.min())\n",
    "normalized_dataset = normalized_dataset.drop(columns='ID')\n",
    "\n",
    "# list(normalized_dataset.columns.values) \n",
    "\n",
    "# normalized_dataset"
   ]
  },
  {
   "cell_type": "code",
   "execution_count": 88,
   "metadata": {},
   "outputs": [
    {
     "data": {
      "text/plain": [
       "array([ 1.05559506e-02,  1.57591020e-02,  4.46726507e-02, -8.88402676e-02,\n",
       "       -3.44583052e-02, -1.38558843e-01,  3.08763787e+00,  6.04212664e-02,\n",
       "       -1.80840439e-03, -3.09057283e-02,  4.86914668e-02, -3.18659048e+00,\n",
       "        3.44673945e-02, -1.05376649e-03,  5.50528827e-02, -4.58460155e-01,\n",
       "        1.04396332e-01, -3.47390401e-02, -3.79663943e-02, -1.79726147e-02,\n",
       "        1.07784638e-01,  1.79281916e-01])"
      ]
     },
     "execution_count": 88,
     "metadata": {},
     "output_type": "execute_result"
    }
   ],
   "source": [
    "# APPLICATION OF LINEAR REGRESSION \n",
    "\n",
    "from sklearn import linear_model\n",
    "\n",
    "reg = linear_model.LinearRegression()\n",
    "reg.fit(normalized_dataset[['Country',\n",
    "'Year',\n",
    "'Status',\n",
    "'AdultMortality',\n",
    "'AdultMortality-Male',\n",
    "'AdultMortality-Female',\n",
    "'InfantDeaths',\n",
    "'Alcohol',\n",
    "'PercentageExpenditure',\n",
    "'Measles',\n",
    "'BMI',\n",
    "'UnderFiveDeaths',\n",
    "'Polio',\n",
    "'TotalExpenditure',\n",
    "'Diphtheria',\n",
    "'HIV-AIDS',\n",
    "'GDP',\n",
    "'Population',\n",
    "'Thinness1-19years',\n",
    "'Thinness5-9years',\n",
    "'IncomeCompositionOfResources',\n",
    "'Schooling']], normalized_dataset.TARGET_LifeExpectancy)\n"
   ]
  },
  {
   "cell_type": "code",
   "execution_count": null,
   "metadata": {},
   "outputs": [],
   "source": []
  }
 ],
 "metadata": {
  "kernelspec": {
   "display_name": "conda_python3",
   "language": "python",
   "name": "conda_python3"
  },
  "language_info": {
   "codemirror_mode": {
    "name": "ipython",
    "version": 3
   },
   "file_extension": ".py",
   "mimetype": "text/x-python",
   "name": "python",
   "nbconvert_exporter": "python",
   "pygments_lexer": "ipython3",
   "version": "3.6.5"
  }
 },
 "nbformat": 4,
 "nbformat_minor": 4
}
