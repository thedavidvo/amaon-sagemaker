{
 "cells": [
  {
   "cell_type": "code",
   "execution_count": 85,
   "metadata": {},
   "outputs": [],
   "source": [
    "# IMPORTS\n",
    "\n",
    "import pandas as pd\n",
    "import matplotlib.pyplot as plt\n",
    "import numpy as np\n",
    "import sklearn as sk"
   ]
  },
  {
   "cell_type": "code",
   "execution_count": 86,
   "metadata": {},
   "outputs": [],
   "source": [
    "# DATA IMPORTS \n",
    "\n",
    "dataset = pd.read_csv('s3://rmit-ml-2020s1-lab-data/Assignment1_data/train.csv')\n",
    "test = pd.read_csv('s3://rmit-ml-2020s1-lab-data/Assignment1_data/test.csv')\n",
    "sample_solution = pd.read_csv('s3://rmit-ml-2020s1-lab-data/Assignment1_data/sample_solution.csv')"
   ]
  },
  {
   "cell_type": "code",
   "execution_count": 129,
   "metadata": {},
   "outputs": [],
   "source": [
    "# NORMALIZATION OF DATASET \n",
    "\n",
    "normalized_dataset = dataset\n",
    "normalized_dataset = (normalized_dataset - normalized_dataset.mean()) / (normalized_dataset.max() - normalized_dataset.min())\n",
    "normalized_dataset = normalized_dataset.drop(columns='ID')\n",
    "\n",
    "# list(normalized_dataset.columns.values) \n",
    "#normalized_dataset"
   ]
  },
  {
   "cell_type": "code",
   "execution_count": 127,
   "metadata": {},
   "outputs": [
    {
     "name": "stdout",
     "output_type": "stream",
     "text": [
      "Mean squared error 0.006920664617494395\n"
     ]
    },
    {
     "data": {
      "text/plain": [
       "<matplotlib.collections.PathCollection at 0x7f67e96a1390>"
      ]
     },
     "execution_count": 127,
     "metadata": {},
     "output_type": "execute_result"
    },
    {
     "data": {
      "image/png": "[encoded data removed]",
      "text/plain": [
       "<Figure size 432x288 with 1 Axes>"
      ]
     },
     "metadata": {},
     "output_type": "display_data"
    }
   ],
   "source": [
    "# APPLICATION OF LINEAR REGRESSION \n",
    "\n",
    "from sklearn import linear_model\n",
    "from sklearn.model_selection import train_test_split\n",
    "\n",
    "\n",
    "X = normalized_dataset[['Country',\n",
    "'Year',\n",
    "'Status',\n",
    "'AdultMortality',\n",
    "'AdultMortality-Male',\n",
    "'AdultMortality-Female',\n",
    "'InfantDeaths',\n",
    "'Alcohol',\n",
    "'PercentageExpenditure',\n",
    "'Measles',\n",
    "'BMI',\n",
    "'UnderFiveDeaths',\n",
    "'Polio',\n",
    "'TotalExpenditure',\n",
    "'Diphtheria',\n",
    "'HIV-AIDS',\n",
    "'GDP',\n",
    "'Population',\n",
    "'Thinness1-19years',\n",
    "'Thinness5-9years',\n",
    "'IncomeCompositionOfResources',\n",
    "'Schooling']]\n",
    "\n",
    "Y = normalized_dataset.TARGET_LifeExpectancy\n",
    "\n",
    "trainX, testX, trainY, testY = train_test_split(np.array(X), np.array(Y), test_size=0.2)\n",
    "\n",
    "# Polynomial Regression\n",
    "from sklearn.preprocessing import PolynomialFeatures\n",
    "polyFeat = PolynomialFeatures(degree=2)\n",
    "polyTrainX = polyFeat.fit_transform(trainX)\n",
    "polyTestX = polyFeat.fit_transform(testX)\n",
    "poly_model = linReg.fit(polyTrainX, trainY)\n",
    "poly_prediction = poly_model.predict(polyTestX)\n",
    "\n",
    "# print(polyTestX.shape)\n",
    "# print(poly_prediction.shape)\n",
    "\n",
    "# Mean squared error\n",
    "from sklearn.metrics import mean_squared_error\n",
    "print('Mean squared error', mean_squared_error(testY, poly_prediction))\n",
    "\n",
    "\n",
    "# Reduce the dimensions \n",
    "from sklearn.decomposition import PCA\n",
    "pca = PCA(n_components=1)\n",
    "pca_data = pca.fit_transform(polyTestX)\n",
    "pca_df = pd.DataFrame(data=pca_data, columns=['polyTestX'])\n",
    "\n",
    "#prediction\n",
    "pca_df['predict'] = poly_prediction\n",
    "plt.scatter(pca_df['polyTestX'], pca_df['predict'])\n",
    "\n",
    "#test\n",
    "pca_df['testY'] = testY\n",
    "plt.scatter(pca_df['polyTestX'], pca_df['testY'])\n",
    "\n"
   ]
  },
  {
   "cell_type": "code",
   "execution_count": null,
   "metadata": {},
   "outputs": [],
   "source": []
  }
 ],
 "metadata": {
  "kernelspec": {
   "display_name": "conda_python3",
   "language": "python",
   "name": "conda_python3"
  },
  "language_info": {
   "codemirror_mode": {
    "name": "ipython",
    "version": 3
   },
   "file_extension": ".py",
   "mimetype": "text/x-python",
   "name": "python",
   "nbconvert_exporter": "python",
   "pygments_lexer": "ipython3",
   "version": "3.6.5"
  }
 },
 "nbformat": 4,
 "nbformat_minor": 4
}
